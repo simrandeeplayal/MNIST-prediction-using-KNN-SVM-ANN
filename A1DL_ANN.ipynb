{
  "nbformat": 4,
  "nbformat_minor": 0,
  "metadata": {
    "colab": {
      "name": "A1DL-ANN.ipynb",
      "provenance": [],
      "collapsed_sections": []
    },
    "kernelspec": {
      "name": "python3",
      "display_name": "Python 3"
    },
    "language_info": {
      "name": "python"
    }
  },
  "cells": [
    {
      "cell_type": "markdown",
      "metadata": {
        "id": "gxCeu_w4T4ll"
      },
      "source": [
        "# Importing all the Libraries "
      ]
    },
    {
      "cell_type": "code",
      "metadata": {
        "id": "-t5XMwv9K7KY"
      },
      "source": [
        "import tensorflow as tf\n",
        "import os\n",
        "import numpy as np\n",
        "from skimage import feature\n",
        "from sklearn import metrics\n",
        "from sklearn.metrics import accuracy_score\n",
        "import seaborn as sns\n",
        "%load_ext tensorboard"
      ],
      "execution_count": 1,
      "outputs": []
    },
    {
      "cell_type": "code",
      "metadata": {
        "colab": {
          "base_uri": "https://localhost:8080/"
        },
        "id": "7zgK2FMcLS_7",
        "outputId": "e6ccd8f6-7a6e-40ea-8a77-5c236b1fe530"
      },
      "source": [
        "from tensorflow import keras\n",
        "print(tf.__version__)\n",
        "print(keras.__version__)\n"
      ],
      "execution_count": 2,
      "outputs": [
        {
          "output_type": "stream",
          "text": [
            "2.4.1\n",
            "2.4.0\n"
          ],
          "name": "stdout"
        }
      ]
    },
    {
      "cell_type": "markdown",
      "metadata": {
        "id": "xvEm1LFOT9Pz"
      },
      "source": [
        "# Connecting the colab notebook with myDrive "
      ]
    },
    {
      "cell_type": "code",
      "metadata": {
        "colab": {
          "base_uri": "https://localhost:8080/"
        },
        "id": "QcmtKKAkLTpC",
        "outputId": "cd1cc6a6-4778-4014-fdd7-7118868b3699"
      },
      "source": [
        "from google.colab import drive\n",
        "drive.mount('/content/gdrive',force_remount=True)"
      ],
      "execution_count": 3,
      "outputs": [
        {
          "output_type": "stream",
          "text": [
            "Mounted at /content/gdrive\n"
          ],
          "name": "stdout"
        }
      ]
    },
    {
      "cell_type": "code",
      "metadata": {
        "id": "pQDHftRaLTr9"
      },
      "source": [
        "from mlxtend.data import loadlocal_mnist"
      ],
      "execution_count": 4,
      "outputs": []
    },
    {
      "cell_type": "markdown",
      "metadata": {
        "id": "CzUs2beCUCFs"
      },
      "source": [
        "# Loading the dataset from my Drive and Initialising the Data "
      ]
    },
    {
      "cell_type": "code",
      "metadata": {
        "id": "as9Z7LqXLTuQ"
      },
      "source": [
        "train_image_path = '/content/gdrive/My Drive/DeepLearning_A1/dataset/train-images-idx3-ubyte'\n",
        "train_label_path = '/content/gdrive/My Drive/DeepLearning_A1/dataset/train-labels-idx1-ubyte' \n",
        "test_image_path = '/content/gdrive/My Drive/DeepLearning_A1/dataset/t10k-images-idx3-ubyte'\n",
        "test_label_path = '/content/gdrive/My Drive/DeepLearning_A1/dataset/t10k-labels-idx1-ubyte'"
      ],
      "execution_count": 5,
      "outputs": []
    },
    {
      "cell_type": "code",
      "metadata": {
        "id": "Qs189LxRLTxL"
      },
      "source": [
        "train_images, train_labels = loadlocal_mnist(images_path= train_image_path, labels_path= train_label_path)\n",
        "test_images, test_labels = loadlocal_mnist(images_path= test_image_path, labels_path= test_label_path)\n",
        "\n",
        "class_names = [\"zero\",\"one\",\"two\",\"three\",\"four\",\"five\",\"six\",\"seven\",\"eight\",\"nine\"]"
      ],
      "execution_count": 6,
      "outputs": []
    },
    {
      "cell_type": "code",
      "metadata": {
        "id": "DMpUVkTLLT0d"
      },
      "source": [
        "#reshaping the flatten pre-processed data\n",
        "train_images=train_images.reshape(-1,28,28)\n",
        "test_images=test_images.reshape(-1,28,28)"
      ],
      "execution_count": 7,
      "outputs": []
    },
    {
      "cell_type": "code",
      "metadata": {
        "colab": {
          "base_uri": "https://localhost:8080/"
        },
        "id": "aRqJpUmCLT2j",
        "outputId": "04c6eab6-3371-41dd-a47e-6df9b96fab72"
      },
      "source": [
        "print(train_images.shape)\n",
        "print(train_images.dtype)"
      ],
      "execution_count": 8,
      "outputs": [
        {
          "output_type": "stream",
          "text": [
            "(60000, 28, 28)\n",
            "uint8\n"
          ],
          "name": "stdout"
        }
      ]
    },
    {
      "cell_type": "code",
      "metadata": {
        "colab": {
          "base_uri": "https://localhost:8080/",
          "height": 282
        },
        "id": "9SzhAkf7LT4i",
        "outputId": "8f381e82-5322-4a17-a6c6-284ff8b9c9e4"
      },
      "source": [
        "# Show an image from the data\n",
        "import matplotlib.pyplot as plt\n",
        "plt.imshow(train_images[786])\n",
        "print(train_labels[786])"
      ],
      "execution_count": 9,
      "outputs": [
        {
          "output_type": "stream",
          "text": [
            "7\n"
          ],
          "name": "stdout"
        },
        {
          "output_type": "display_data",
          "data": {
            "image/png": "[encoded data removed]",
            "text/plain": [
              "<Figure size 432x288 with 1 Axes>"
            ]
          },
          "metadata": {
            "tags": [],
            "needs_background": "light"
          }
        }
      ]
    },
    {
      "cell_type": "code",
      "metadata": {
        "id": "iZSFJT_3MNgh"
      },
      "source": [
        "#Using slicing to split the training to train and validation\n",
        "\n",
        "valid_images= train_images[:5000] / 255.0\n",
        "valid_labels = train_labels[:5000]\n",
        "\n",
        "train_images  = train_images[5000:] / 255.0\n",
        "train_labels=train_labels[5000:]\n",
        "\n",
        "test_images = test_images / 255.0"
      ],
      "execution_count": 10,
      "outputs": []
    },
    {
      "cell_type": "code",
      "metadata": {
        "colab": {
          "base_uri": "https://localhost:8080/"
        },
        "id": "gpM8YeSFMNi4",
        "outputId": "a804c4f4-7f06-4743-9731-3bbc4faf8952"
      },
      "source": [
        "print(np.shape(train_images))\n",
        "print(np.shape(valid_images))\n",
        "print(np.shape(test_images))\n",
        "\n",
        "print(np.shape(valid_labels))\n",
        "print(np.shape(train_labels))"
      ],
      "execution_count": 11,
      "outputs": [
        {
          "output_type": "stream",
          "text": [
            "(55000, 28, 28)\n",
            "(5000, 28, 28)\n",
            "(10000, 28, 28)\n",
            "(5000,)\n",
            "(55000,)\n"
          ],
          "name": "stdout"
        }
      ]
    },
    {
      "cell_type": "markdown",
      "metadata": {
        "id": "8L__nh3i9p_A"
      },
      "source": [
        "# Initialing the Layers and fitting the model"
      ]
    },
    {
      "cell_type": "code",
      "metadata": {
        "id": "6NxJ3F96MNmy"
      },
      "source": [
        "#initialing the model\n",
        "model = tf.keras.models.Sequential([tf.keras.layers.Flatten(input_shape=[28,28]), \n",
        "                                    tf.keras.layers.Dense(512, activation=tf.nn.relu), \n",
        "                                    tf.keras.layers.Dense(10, activation=tf.nn.softmax)])"
      ],
      "execution_count": 12,
      "outputs": []
    },
    {
      "cell_type": "code",
      "metadata": {
        "colab": {
          "base_uri": "https://localhost:8080/"
        },
        "id": "JNmaDRqyMNow",
        "outputId": "4929a4c7-b71f-4951-cb2a-7e6535b7dc4c"
      },
      "source": [
        "# Train and fit the model with given dataset\n",
        "model.compile(optimizer = tf.optimizers.Adam(),       \n",
        "              loss = 'sparse_categorical_crossentropy',\n",
        "              metrics=['accuracy'])\n",
        "\n",
        "H=model.fit(train_images, train_labels, epochs=15,validation_data=(valid_images, valid_labels))"
      ],
      "execution_count": 13,
      "outputs": [
        {
          "output_type": "stream",
          "text": [
            "Epoch 1/10\n",
            "1719/1719 [==============================] - 9s 5ms/step - loss: 0.3589 - accuracy: 0.8940 - val_loss: 0.0983 - val_accuracy: 0.9704\n",
            "Epoch 2/10\n",
            "1719/1719 [==============================] - 8s 5ms/step - loss: 0.0906 - accuracy: 0.9728 - val_loss: 0.0935 - val_accuracy: 0.9716\n",
            "Epoch 3/10\n",
            "1719/1719 [==============================] - 9s 5ms/step - loss: 0.0560 - accuracy: 0.9816 - val_loss: 0.0709 - val_accuracy: 0.9794\n",
            "Epoch 4/10\n",
            "1719/1719 [==============================] - 8s 5ms/step - loss: 0.0343 - accuracy: 0.9887 - val_loss: 0.0731 - val_accuracy: 0.9784\n",
            "Epoch 5/10\n",
            "1719/1719 [==============================] - 8s 5ms/step - loss: 0.0267 - accuracy: 0.9914 - val_loss: 0.0685 - val_accuracy: 0.9804\n",
            "Epoch 6/10\n",
            "1719/1719 [==============================] - 8s 5ms/step - loss: 0.0188 - accuracy: 0.9943 - val_loss: 0.0759 - val_accuracy: 0.9790\n",
            "Epoch 7/10\n",
            "1719/1719 [==============================] - 8s 5ms/step - loss: 0.0148 - accuracy: 0.9955 - val_loss: 0.0811 - val_accuracy: 0.9800\n",
            "Epoch 8/10\n",
            "1719/1719 [==============================] - 8s 5ms/step - loss: 0.0126 - accuracy: 0.9958 - val_loss: 0.0820 - val_accuracy: 0.9796\n",
            "Epoch 9/10\n",
            "1719/1719 [==============================] - 8s 5ms/step - loss: 0.0097 - accuracy: 0.9967 - val_loss: 0.0834 - val_accuracy: 0.9794\n",
            "Epoch 10/10\n",
            "1719/1719 [==============================] - 8s 5ms/step - loss: 0.0086 - accuracy: 0.9971 - val_loss: 0.0766 - val_accuracy: 0.9844\n"
          ],
          "name": "stdout"
        }
      ]
    },
    {
      "cell_type": "code",
      "metadata": {
        "colab": {
          "base_uri": "https://localhost:8080/"
        },
        "id": "AoVHYdSeMNrB",
        "outputId": "00d47c79-6a82-4fc0-efe4-b58209324a09"
      },
      "source": [
        "type(H)\n",
        "print(H.history.keys())"
      ],
      "execution_count": 14,
      "outputs": [
        {
          "output_type": "stream",
          "text": [
            "dict_keys(['loss', 'accuracy', 'val_loss', 'val_accuracy'])\n"
          ],
          "name": "stdout"
        }
      ]
    },
    {
      "cell_type": "markdown",
      "metadata": {
        "id": "QFE2E_3Q9j9c"
      },
      "source": [
        "# Initialing the model "
      ]
    },
    {
      "cell_type": "code",
      "metadata": {
        "colab": {
          "base_uri": "https://localhost:8080/"
        },
        "id": "-4lIb_pIMNtI",
        "outputId": "e3e768a5-169a-476b-e7ef-e019ac8f43c4"
      },
      "source": [
        "#Different model with SGD as optimizer\n",
        "model1 = tf.keras.models.Sequential([tf.keras.layers.Flatten(input_shape=[28,28]), \n",
        "                                    tf.keras.layers.Dense(128, activation=tf.nn.relu), \n",
        "                                    tf.keras.layers.Dense(10, activation=tf.nn.softmax)])\n",
        "\n",
        "model1.compile(optimizer = tf.optimizers.SGD(0.01),\n",
        "              loss = 'sparse_categorical_crossentropy',\n",
        "              metrics=['accuracy'])\n",
        "\n",
        "H=model1.fit(train_images, train_labels, epochs=10,validation_data=(valid_images, valid_labels))"
      ],
      "execution_count": 15,
      "outputs": [
        {
          "output_type": "stream",
          "text": [
            "Epoch 1/10\n",
            "1719/1719 [==============================] - 4s 2ms/step - loss: 1.0389 - accuracy: 0.7288 - val_loss: 0.3691 - val_accuracy: 0.9024\n",
            "Epoch 2/10\n",
            "1719/1719 [==============================] - 3s 2ms/step - loss: 0.3637 - accuracy: 0.8995 - val_loss: 0.2975 - val_accuracy: 0.9206\n",
            "Epoch 3/10\n",
            "1719/1719 [==============================] - 3s 2ms/step - loss: 0.3045 - accuracy: 0.9163 - val_loss: 0.2637 - val_accuracy: 0.9288\n",
            "Epoch 4/10\n",
            "1719/1719 [==============================] - 3s 2ms/step - loss: 0.2752 - accuracy: 0.9224 - val_loss: 0.2402 - val_accuracy: 0.9338\n",
            "Epoch 5/10\n",
            "1719/1719 [==============================] - 3s 2ms/step - loss: 0.2471 - accuracy: 0.9318 - val_loss: 0.2228 - val_accuracy: 0.9390\n",
            "Epoch 6/10\n",
            "1719/1719 [==============================] - 3s 2ms/step - loss: 0.2311 - accuracy: 0.9359 - val_loss: 0.2070 - val_accuracy: 0.9432\n",
            "Epoch 7/10\n",
            "1719/1719 [==============================] - 3s 2ms/step - loss: 0.2140 - accuracy: 0.9398 - val_loss: 0.1951 - val_accuracy: 0.9450\n",
            "Epoch 8/10\n",
            "1719/1719 [==============================] - 3s 2ms/step - loss: 0.1976 - accuracy: 0.9460 - val_loss: 0.1829 - val_accuracy: 0.9510\n",
            "Epoch 9/10\n",
            "1719/1719 [==============================] - 3s 2ms/step - loss: 0.1866 - accuracy: 0.9490 - val_loss: 0.1729 - val_accuracy: 0.9518\n",
            "Epoch 10/10\n",
            "1719/1719 [==============================] - 3s 2ms/step - loss: 0.1775 - accuracy: 0.9506 - val_loss: 0.1659 - val_accuracy: 0.9548\n"
          ],
          "name": "stdout"
        }
      ]
    },
    {
      "cell_type": "code",
      "metadata": {
        "colab": {
          "base_uri": "https://localhost:8080/"
        },
        "id": "oNrhzTwwLT7F",
        "outputId": "faa52ca6-c41b-42d2-bc4f-bbf13065faa0"
      },
      "source": [
        "model.summary()"
      ],
      "execution_count": 16,
      "outputs": [
        {
          "output_type": "stream",
          "text": [
            "Model: \"sequential\"\n",
            "_________________________________________________________________\n",
            "Layer (type)                 Output Shape              Param #   \n",
            "=================================================================\n",
            "flatten (Flatten)            (None, 784)               0         \n",
            "_________________________________________________________________\n",
            "dense (Dense)                (None, 512)               401920    \n",
            "_________________________________________________________________\n",
            "dense_1 (Dense)              (None, 10)                5130      \n",
            "=================================================================\n",
            "Total params: 407,050\n",
            "Trainable params: 407,050\n",
            "Non-trainable params: 0\n",
            "_________________________________________________________________\n"
          ],
          "name": "stdout"
        }
      ]
    },
    {
      "cell_type": "code",
      "metadata": {
        "colab": {
          "base_uri": "https://localhost:8080/",
          "height": 602
        },
        "id": "wc2uhHVOM2Kc",
        "outputId": "82496eee-fe13-4b42-b1db-47f27a97a2e9"
      },
      "source": [
        "import pandas as pd\n",
        "import matplotlib.pyplot as plt\n",
        "pd.DataFrame(H.history).plot(figsize=(8, 5))\n",
        "plt.grid(True)\n",
        "plt.gca().set_ylim(0, 1) \n",
        "plt.show()\n",
        "\n",
        "plt.plot(H.history['loss'])\n",
        "plt.ylabel('cost')\n",
        "plt.xlabel('Epochs')\n",
        "plt.title(\"Cost/Loss Curve\")\n",
        "plt.show()"
      ],
      "execution_count": 17,
      "outputs": [
        {
          "output_type": "display_data",
          "data": {
            "image/png": "[encoded data removed]",
            "text/plain": [
              "<Figure size 576x360 with 1 Axes>"
            ]
          },
          "metadata": {
            "tags": [],
            "needs_background": "light"
          }
        },
        {
          "output_type": "display_data",
          "data": {
            "image/png": "[encoded data removed]",
            "text/plain": [
              "<Figure size 432x288 with 1 Axes>"
            ]
          },
          "metadata": {
            "tags": [],
            "needs_background": "light"
          }
        }
      ]
    },
    {
      "cell_type": "markdown",
      "metadata": {
        "id": "zEY4eOhIUPvu"
      },
      "source": [
        "# Evaluating the Performance of the trained model with confusion matrix"
      ]
    },
    {
      "cell_type": "code",
      "metadata": {
        "colab": {
          "base_uri": "https://localhost:8080/"
        },
        "id": "R24AATKSM2NH",
        "outputId": "a7b34ba7-3656-4367-a10d-7dad6b4688e2"
      },
      "source": [
        "# Accuracy for model\n",
        "model.evaluate(test_images, test_labels)"
      ],
      "execution_count": 18,
      "outputs": [
        {
          "output_type": "stream",
          "text": [
            "313/313 [==============================] - 1s 2ms/step - loss: 0.0850 - accuracy: 0.9809\n"
          ],
          "name": "stdout"
        },
        {
          "output_type": "execute_result",
          "data": {
            "text/plain": [
              "[0.08500352501869202, 0.98089998960495]"
            ]
          },
          "metadata": {
            "tags": []
          },
          "execution_count": 18
        }
      ]
    },
    {
      "cell_type": "code",
      "metadata": {
        "colab": {
          "base_uri": "https://localhost:8080/"
        },
        "id": "XMlh8X0PM2QI",
        "outputId": "e58eaed8-72db-410a-f563-828ae091bcc4"
      },
      "source": [
        "model1.evaluate(test_images, test_labels)"
      ],
      "execution_count": 19,
      "outputs": [
        {
          "output_type": "stream",
          "text": [
            "313/313 [==============================] - 0s 1ms/step - loss: 0.1704 - accuracy: 0.9501\n"
          ],
          "name": "stdout"
        },
        {
          "output_type": "execute_result",
          "data": {
            "text/plain": [
              "[0.1703963428735733, 0.9501000046730042]"
            ]
          },
          "metadata": {
            "tags": []
          },
          "execution_count": 19
        }
      ]
    },
    {
      "cell_type": "code",
      "metadata": {
        "colab": {
          "base_uri": "https://localhost:8080/"
        },
        "id": "hWW4NL9lLT-B",
        "outputId": "a057481d-32de-4eec-b9ab-9fc75ac7d03a"
      },
      "source": [
        "predictions=[]\n",
        "predict_label=[]\n",
        "# Exract LBP features for each test sample and classify it \n",
        "\n",
        "for im_index in range(len(test_images)):\n",
        "  imag = test_images[im_index]\n",
        "  \n",
        "  # Perform classification, Hint: use model.predict()\n",
        "  prediction = model.predict_classes(imag.reshape(1,-1))\n",
        "  \n",
        "  # Store the classfication result\n",
        "  predictions.append(prediction)\n",
        "  predict_label.append(test_labels[im_index])"
      ],
      "execution_count": 20,
      "outputs": [
        {
          "output_type": "stream",
          "text": [
            "WARNING:tensorflow:Model was constructed with shape (None, 28, 28) for input KerasTensor(type_spec=TensorSpec(shape=(None, 28, 28), dtype=tf.float32, name='flatten_input'), name='flatten_input', description=\"created by layer 'flatten_input'\"), but it was called on an input with incompatible shape (None, 784).\n"
          ],
          "name": "stdout"
        },
        {
          "output_type": "stream",
          "text": [
            "/usr/local/lib/python3.7/dist-packages/tensorflow/python/keras/engine/sequential.py:450: UserWarning: `model.predict_classes()` is deprecated and will be removed after 2021-01-01. Please use instead:* `np.argmax(model.predict(x), axis=-1)`,   if your model does multi-class classification   (e.g. if it uses a `softmax` last-layer activation).* `(model.predict(x) > 0.5).astype(\"int32\")`,   if your model does binary classification   (e.g. if it uses a `sigmoid` last-layer activation).\n",
            "  warnings.warn('`model.predict_classes()` is deprecated and '\n"
          ],
          "name": "stderr"
        }
      ]
    },
    {
      "cell_type": "code",
      "metadata": {
        "colab": {
          "base_uri": "https://localhost:8080/"
        },
        "id": "Ryw9_HsGLUBD",
        "outputId": "becabb4d-8af5-4037-e712-bde5fd913605"
      },
      "source": [
        "accuracy = metrics.accuracy_score(predict_label, predictions)\n",
        "print(\"Accuracy on test dataset:\",accuracy)"
      ],
      "execution_count": 21,
      "outputs": [
        {
          "output_type": "stream",
          "text": [
            "Accuracy on test dataset: 0.9809\n"
          ],
          "name": "stdout"
        }
      ]
    },
    {
      "cell_type": "code",
      "metadata": {
        "colab": {
          "base_uri": "https://localhost:8080/",
          "height": 696
        },
        "id": "BcGYheYZLUDv",
        "outputId": "33e7ffa6-2811-4fc4-c411-5686f99cd73b"
      },
      "source": [
        "# plot the confusion matrix\n",
        "cm  = metrics.confusion_matrix(predict_label, predictions)\n",
        "print(cm)\n",
        "\n",
        "# Plot confusion matrix using seaborn library\n",
        "plt.figure(figsize=(9,9))\n",
        "sns.heatmap(cm, annot=True, fmt=\".3f\", linewidths=.5, square = True, cmap = 'Blues_r');\n",
        "plt.ylabel('Actual label');\n",
        "plt.xlabel('Predicted label');\n",
        "all_sample_title = 'Accuracy Score: {0}'.format(accuracy)\n",
        "plt.title(all_sample_title, size = 15);"
      ],
      "execution_count": 22,
      "outputs": [
        {
          "output_type": "stream",
          "text": [
            "[[ 978    1    0    0    1    0    0    0    0    0]\n",
            " [   0 1128    4    0    0    0    1    0    2    0]\n",
            " [   3    0 1017    1    1    0    2    4    3    1]\n",
            " [   0    0   10  984    1    3    0    3    4    5]\n",
            " [   1    0    8    0  960    0    1    1    2    9]\n",
            " [   3    0    0    8    1  872    5    0    1    2]\n",
            " [   7    2    0    1    2    1  945    0    0    0]\n",
            " [   2    3   10    1    1    0    0 1002    2    7]\n",
            " [  10    1    8    2    4    3    4    1  937    4]\n",
            " [   3    3    0    2    6    2    0    3    4  986]]\n"
          ],
          "name": "stdout"
        },
        {
          "output_type": "display_data",
          "data": {
            "image/png": "[encoded data removed]",
            "text/plain": [
              "<Figure size 648x648 with 2 Axes>"
            ]
          },
          "metadata": {
            "tags": [],
            "needs_background": "light"
          }
        }
      ]
    },
    {
      "cell_type": "code",
      "metadata": {
        "id": "4tl2OgU2Nauo"
      },
      "source": [
        ""
      ],
      "execution_count": 22,
      "outputs": []
    },
    {
      "cell_type": "code",
      "metadata": {
        "id": "Tk6Vv5w5NeDq"
      },
      "source": [
        ""
      ],
      "execution_count": null,
      "outputs": []
    }
  ]
}